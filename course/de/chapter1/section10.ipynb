{
  "cells": [
    {
      "cell_type": "markdown",
      "metadata": {
        "id": "acenLxrJJKOu"
      },
      "source": [
        "# Quiz am Ende des Kapitels"
      ]
    },
    {
      "cell_type": "markdown",
      "metadata": {
        "id": "HJ2QaLiZJKOy"
      },
      "source": [
        "Install the Transformers, Datasets, and Evaluate libraries to run this notebook."
      ]
    },
    {
      "cell_type": "code",
      "execution_count": null,
      "metadata": {
        "id": "KTd3_ktIJKOy"
      },
      "outputs": [],
      "source": [
        "!pip install datasets evaluate transformers[sentencepiece]"
      ]
    },
    {
      "cell_type": "code",
      "execution_count": null,
      "metadata": {
        "id": "LGIC7CgpJKO0"
      },
      "outputs": [],
      "source": [
        "from transformers import pipeline\n",
        "\n",
        "ner = pipeline(\"ner\", grouped_entities=True)\n",
        "ner(\"My name is Sylvain and I work at Hugging Face in Brooklyn.\")"
      ]
    },
    {
      "cell_type": "code",
      "execution_count": null,
      "metadata": {
        "id": "GdK6RmgoJKO1"
      },
      "outputs": [],
      "source": [
        "from transformers import pipeline\n",
        "\n",
        "filler = pipeline(\"fill-mask\", model=\"bert-base-cased\")\n",
        "result = filler(\"...\")"
      ]
    },
    {
      "cell_type": "code",
      "execution_count": null,
      "metadata": {
        "id": "BYvLIlZgJKO1"
      },
      "outputs": [],
      "source": [
        "from transformers import pipeline\n",
        "\n",
        "classifier = pipeline(\"zero-shot-classification\")\n",
        "result = classifier(\"This is a course about the Transformers library\")"
      ]
    }
  ],
  "metadata": {
    "colab": {
      "name": "Quiz am Ende des Kapitels",
      "provenance": []
    },
    "language_info": {
      "name": "python"
    },
    "kernelspec": {
      "name": "python3",
      "display_name": "Python 3"
    }
  },
  "nbformat": 4,
  "nbformat_minor": 0
}